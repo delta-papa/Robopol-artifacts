{
 "cells": [
  {
   "cell_type": "code",
   "execution_count": 2,
   "metadata": {},
   "outputs": [],
   "source": [
    "import json\n",
    "input_param = {\"search_copy\": [\"/home/walop/Documents/data/\",\n",
    "                               \"./artifact_images\",\n",
    "                               \"/home/walop/Documents/out.txt\"],\n",
    "\"sorting\": [\"./artifact_images/catalog/\",\n",
    "            \"./sorted/\"],\n",
    "\"extract_stars\": [\"./extract_stars/\",\n",
    "                  \"./sorted/\"],\n",
    "\"extract_artifacts\": [\"./extract_artifacts/\",\n",
    "                     \"./artifact_images/output_87.log\"],\n",
    "\"fits_to_png\": [\"./artifact_images/*.fits\",\n",
    "               \"./png/\"],\n",
    "\"cutout\": [\"./png/*.png\",\n",
    "          \"./extract_artifacts/\",\n",
    "          \"./extract_stars/\",\n",
    "          \"./cutout/reflection_training/\",\n",
    "          \"./cutout/star_training/\"],\n",
    "               \n",
    "\"cnn\": [\"./cutout/reflection_training/\",\n",
    "       \"./cutout/star_training/\",\n",
    "       \"./cutout/test/\",\n",
    "       \"./cutout/test/artifacts/\",\n",
    "       \"./cutout/test/stars/\"],\n",
    "\n",
    "\"challenge\": [\"./cutout/challenge/\"],\n",
    "               \n",
    "\"testing_script\": [\"./artifact_images/catalog/\",\n",
    "                  \"./artifact_images/\"]\n",
    "        \n",
    "\n",
    "}\n",
    "\n",
    "with open('input_param.json', 'w') as json_file:\n",
    "    json.dump(input_param, json_file)\n"
   ]
  },
  {
   "cell_type": "code",
   "execution_count": null,
   "metadata": {},
   "outputs": [],
   "source": []
  },
  {
   "cell_type": "code",
   "execution_count": 3,
   "metadata": {},
   "outputs": [
    {
     "data": {
      "text/plain": [
       "43"
      ]
     },
     "execution_count": 3,
     "metadata": {},
     "output_type": "execute_result"
    }
   ],
   "source": [
    "st='/home/walop/Documents/pipeline_testing/png/'\n",
    "len(st)"
   ]
  },
  {
   "cell_type": "code",
   "execution_count": null,
   "metadata": {},
   "outputs": [],
   "source": []
  }
 ],
 "metadata": {
  "kernelspec": {
   "display_name": "Python 3",
   "language": "python",
   "name": "python3"
  },
  "language_info": {
   "codemirror_mode": {
    "name": "ipython",
    "version": 3
   },
   "file_extension": ".py",
   "mimetype": "text/x-python",
   "name": "python",
   "nbconvert_exporter": "python",
   "pygments_lexer": "ipython3",
   "version": "3.7.1"
  }
 },
 "nbformat": 4,
 "nbformat_minor": 2
}
